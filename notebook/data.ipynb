{
 "cells": [
  {
   "cell_type": "code",
   "execution_count": 1,
   "metadata": {},
   "outputs": [
    {
     "name": "stdout",
     "output_type": "stream",
     "text": [
      "\n",
      "\u001b[1m[\u001b[0m\u001b[34;49mnotice\u001b[0m\u001b[1;39;49m]\u001b[0m\u001b[39;49m A new release of pip is available: \u001b[0m\u001b[31;49m24.2\u001b[0m\u001b[39;49m -> \u001b[0m\u001b[32;49m24.3.1\u001b[0m\n",
      "\u001b[1m[\u001b[0m\u001b[34;49mnotice\u001b[0m\u001b[1;39;49m]\u001b[0m\u001b[39;49m To update, run: \u001b[0m\u001b[32;49mpip install --upgrade pip\u001b[0m\n"
     ]
    }
   ],
   "source": [
    "!pip install --quiet biopython\n"
   ]
  },
  {
   "cell_type": "code",
   "execution_count": 2,
   "metadata": {},
   "outputs": [
    {
     "name": "stdout",
     "output_type": "stream",
     "text": [
      "C_AA038923.1.fasta             blast_C_AA038924.1.xml\n",
      "C_AA038924.1.fasta             blast_C_AA038925.1.xml\n",
      "C_AA038925.1.fasta             blast_C_AA038926.1.xml\n",
      "C_AA038926.1.fasta             blast_C_AA038927.1.xml\n",
      "C_AA038927.1.fasta             blast_C_AA038928.1.xml\n",
      "C_AA038928.1.fasta             blast_C_AA038929.1.xml\n",
      "C_AA038929.1.fasta             blast_C_AA038930.1.xml\n",
      "C_AA038930.1.fasta             blast_C_AA038931.1.xml\n",
      "C_AA038931.1.fasta             blast_C_AA038932.1.xml\n",
      "C_AA038932.1.fasta             blast_ON563414.3.xml\n",
      "NC_063383.1.fasta              blast_output.xml\n",
      "ON563414.3.fasta               figure1.png\n",
      "Protein-Annotation-uniprot.csv figure2.png\n",
      "blast_C_AA038923.1.xml         table.png\n"
     ]
    }
   ],
   "source": [
    "!ls ./data/"
   ]
  },
  {
   "cell_type": "code",
   "execution_count": 6,
   "metadata": {},
   "outputs": [
    {
     "name": "stdout",
     "output_type": "stream",
     "text": [
      "ID: C_AA038923.1\n",
      "Description: C_AA038923.1 Monkeypox virus isolate MPXV/human/CHN/GDCDC_GZ_M23008/2023\n",
      "Sequence: TAGATTGGTATAAGGATGTTGATAAGCTCT ...\n",
      "description: MPXV/human/CHN/GDCDC_GZ_M23008/2023\n"
     ]
    }
   ],
   "source": [
    "from Bio import SeqIO\n",
    "\n",
    "# Open the .fasta file\n",
    "with open(\"./data/C_AA038923.1.fasta\", \"r\") as fasta_file:\n",
    "    for record in SeqIO.parse(fasta_file, \"fasta\"):\n",
    "        description = record.description \n",
    "        part = description.split(\" \", 4)[4]\n",
    "        print(f\"ID: {record.id}\")\n",
    "        print(f\"Description: {record.description}\")\n",
    "        print(f\"Sequence: {record.seq[:30]} ...\")\n",
    "        print(f\"description: {part}\")"
   ]
  },
  {
   "cell_type": "code",
   "execution_count": 7,
   "metadata": {},
   "outputs": [
    {
     "name": "stdout",
     "output_type": "stream",
     "text": [
      "File: C_AA038927.1.fasta\n",
      "A: 65857, G: 32333, C: 32405, T: 65522\n",
      "------------------------------\n",
      "File: C_AA038926.1.fasta\n",
      "A: 66075, G: 32427, C: 32488, T: 65742\n",
      "------------------------------\n",
      "File: C_AA038924.1.fasta\n",
      "A: 65894, G: 32360, C: 32439, T: 65563\n",
      "------------------------------\n",
      "File: C_AA038925.1.fasta\n",
      "A: 66028, G: 32402, C: 32480, T: 65700\n",
      "------------------------------\n",
      "File: C_AA038929.1.fasta\n",
      "A: 65188, G: 32001, C: 32085, T: 64831\n",
      "------------------------------\n",
      "File: C_AA038930.1.fasta\n",
      "A: 66073, G: 32428, C: 32490, T: 65743\n",
      "------------------------------\n",
      "File: C_AA038931.1.fasta\n",
      "A: 65189, G: 31960, C: 32085, T: 64849\n",
      "------------------------------\n",
      "File: C_AA038928.1.fasta\n",
      "A: 65045, G: 31941, C: 32043, T: 64678\n",
      "------------------------------\n",
      "File: NC_063383.1.fasta\n",
      "A: 66193, G: 32536, C: 32602, T: 65878\n",
      "------------------------------\n",
      "File: ON563414.3.fasta\n",
      "A: 66226, G: 32499, C: 32578, T: 65902\n",
      "------------------------------\n",
      "File: C_AA038923.1.fasta\n",
      "A: 65598, G: 32215, C: 32316, T: 65317\n",
      "------------------------------\n",
      "File: C_AA038932.1.fasta\n",
      "A: 65916, G: 32349, C: 32456, T: 65615\n",
      "------------------------------\n"
     ]
    }
   ],
   "source": [
    "import os\n",
    "from Bio import SeqIO\n",
    "\n",
    "# Directory containing the FASTA files (change to \".\" if the files are in the current directory)\n",
    "folder_path = \"./data/\"\n",
    "\n",
    "# Loop through each file in the directory\n",
    "for file_name in os.listdir(folder_path):\n",
    "    if file_name.endswith(\".fasta\"):  # Only process .fasta files\n",
    "        file_path = os.path.join(folder_path, file_name)\n",
    "        \n",
    "        # Initialize counters for A, G, C, T\n",
    "        a_count = g_count = c_count = t_count = 0\n",
    "        \n",
    "        # Parse the fasta file\n",
    "        for record in SeqIO.parse(file_path, \"fasta\"):\n",
    "            sequence = str(record.seq).upper()\n",
    "            a_count += sequence.count('A')\n",
    "            g_count += sequence.count('G')\n",
    "            c_count += sequence.count('C')\n",
    "            t_count += sequence.count('T')\n",
    "        \n",
    "        # Print the results\n",
    "        print(f\"File: {file_name}\")\n",
    "        print(f\"A: {a_count}, G: {g_count}, C: {c_count}, T: {t_count}\")\n",
    "        print(\"-\" * 30)\n"
   ]
  },
  {
   "cell_type": "code",
   "execution_count": 9,
   "metadata": {},
   "outputs": [
    {
     "name": "stdout",
     "output_type": "stream",
     "text": [
      "File: C_AA038927.1.fasta\n",
      "Length of sequences: 196168\n",
      "------------------------------\n",
      "File: C_AA038926.1.fasta\n",
      "Length of sequences: 196737\n",
      "------------------------------\n",
      "File: C_AA038924.1.fasta\n",
      "Length of sequences: 196297\n",
      "------------------------------\n",
      "File: C_AA038925.1.fasta\n",
      "Length of sequences: 196615\n",
      "------------------------------\n",
      "File: C_AA038929.1.fasta\n",
      "Length of sequences: 196169\n",
      "------------------------------\n",
      "File: C_AA038930.1.fasta\n",
      "Length of sequences: 196734\n",
      "------------------------------\n",
      "File: C_AA038931.1.fasta\n",
      "Length of sequences: 196643\n",
      "------------------------------\n",
      "File: C_AA038928.1.fasta\n",
      "Length of sequences: 196171\n",
      "------------------------------\n",
      "File: NC_063383.1.fasta\n",
      "Length of sequences: 197209\n",
      "------------------------------\n",
      "File: ON563414.3.fasta\n",
      "Length of sequences: 197205\n",
      "------------------------------\n",
      "File: C_AA038923.1.fasta\n",
      "Length of sequences: 196279\n",
      "------------------------------\n",
      "File: C_AA038932.1.fasta\n",
      "Length of sequences: 196657\n",
      "------------------------------\n"
     ]
    }
   ],
   "source": [
    "import os\n",
    "from Bio import SeqIO\n",
    "\n",
    "# Directory containing the FASTA files (change to \".\" if the files are in the current directory)\n",
    "folder_path = \"./data\"\n",
    "\n",
    "# Loop through each file in the directory\n",
    "for file_name in os.listdir(folder_path):\n",
    "    if file_name.endswith(\".fasta\"):  # Only process .fasta files\n",
    "        file_path = os.path.join(folder_path, file_name)\n",
    "        \n",
    "        # Initialize counters for A, G, C, T, and sequence length\n",
    "        a_count = g_count = c_count = t_count = total_length = 0\n",
    "        \n",
    "        # Parse the fasta file\n",
    "        for record in SeqIO.parse(file_path, \"fasta\"):\n",
    "            sequence = str(record.seq).upper()\n",
    "            total_length += len(sequence)\n",
    "        \n",
    "        # Print the results\n",
    "        print(f\"File: {file_name}\")\n",
    "        print(f\"Length of sequences: {total_length}\")\n",
    "        print(\"-\" * 30)\n"
   ]
  },
  {
   "cell_type": "code",
   "execution_count": null,
   "metadata": {},
   "outputs": [],
   "source": []
  },
  {
   "cell_type": "code",
   "execution_count": 9,
   "metadata": {},
   "outputs": [
    {
     "name": "stdout",
     "output_type": "stream",
     "text": [
      "BLAST search completed! Results saved to blast_results.xml\n"
     ]
    }
   ],
   "source": [
    "# run BLAST \n",
    "\n",
    "from Bio.Blast import NCBIWWW\n",
    "from Bio import SeqIO\n",
    "\n",
    "# Load your FASTA sequence file (replace with your file path)\n",
    "fasta_file = \"data/assembled/C_AA038923.1.fasta\"\n",
    "\n",
    "# Parse the FASTA file\n",
    "with open(fasta_file, \"r\") as file:\n",
    "    record = SeqIO.read(file, \"fasta\")\n",
    "\n",
    "# Run BLAST against NCBI nt database (for nucleotide sequences)\n",
    "result_handle = NCBIWWW.qblast(\"blastn\", \"nt\", record.seq)\n",
    "\n",
    "# Save results to a file\n",
    "with open(\"blast_results.xml\", \"w\") as out_handle:\n",
    "    out_handle.write(result_handle.read())\n",
    "\n",
    "# Close the result handle\n",
    "result_handle.close()\n",
    "\n",
    "print(\"BLAST search completed! Results saved to blast_results.xml\")\n"
   ]
  },
  {
   "cell_type": "code",
   "execution_count": null,
   "metadata": {},
   "outputs": [],
   "source": []
  },
  {
   "cell_type": "code",
   "execution_count": null,
   "metadata": {},
   "outputs": [],
   "source": []
  },
  {
   "cell_type": "code",
   "execution_count": null,
   "metadata": {},
   "outputs": [],
   "source": []
  }
 ],
 "metadata": {
  "kernelspec": {
   "display_name": "base",
   "language": "python",
   "name": "python3"
  },
  "language_info": {
   "codemirror_mode": {
    "name": "ipython",
    "version": 3
   },
   "file_extension": ".py",
   "mimetype": "text/x-python",
   "name": "python",
   "nbconvert_exporter": "python",
   "pygments_lexer": "ipython3",
   "version": "3.8.8"
  }
 },
 "nbformat": 4,
 "nbformat_minor": 2
}
